{
 "cells": [
  {
   "cell_type": "code",
   "execution_count": 124,
   "metadata": {},
   "outputs": [],
   "source": [
    "import torch\n",
    "import matplotlib.pyplot as plt"
   ]
  },
  {
   "cell_type": "code",
   "execution_count": 125,
   "metadata": {},
   "outputs": [],
   "source": [
    "i_max = 20\n",
    "j_max = 20\n",
    "\n",
    "I, J = torch.meshgrid(torch.arange(0, i_max + 1), torch.arange(-j_max, j_max + 1), indexing='ij')\n",
    "I = I + 1e-10\n",
    "J = J + 1e-10"
   ]
  },
  {
   "cell_type": "code",
   "execution_count": 126,
   "metadata": {},
   "outputs": [
    {
     "data": {
      "image/png": "[encoded data removed]",
      "text/plain": [
       "<Figure size 600x600 with 1 Axes>"
      ]
     },
     "metadata": {},
     "output_type": "display_data"
    }
   ],
   "source": [
    "def potential(i, j):\n",
    "    return (i**2 + j**2)\n",
    "\n",
    "V = potential(I, J)\n",
    "\n",
    "plt.figure(figsize=(6,6))\n",
    "plt.pcolormesh(I, J, V, cmap='nipy_spectral')\n",
    "plt.axis('off')\n",
    "plt.show()"
   ]
  },
  {
   "cell_type": "code",
   "execution_count": 84,
   "metadata": {},
   "outputs": [],
   "source": [
    "# The finite-differences lattice approximation to the linear operator for the first derivative w.r.t i\n",
    "d_i = torch.zeros(2*[len(I.flatten())])\n",
    "for k in range(len(d_i)):\n",
    "    if k + 2*j_max + 1 < len(d_i):\n",
    "        # Forward finite differences\n",
    "        d_i[k + 2*j_max + 1, k] = 1\n",
    "        d_i[k, k] = -1\n",
    "    else:\n",
    "        # Central finite differences\n",
    "        d_i[k, k] = 1\n",
    "        d_i[k - 2*j_max - 1, k] = -1\n",
    "\n",
    "\n",
    "# The finite-differences lattice approximation to the linear operator for the second derivative w.r.t i \n",
    "dd_i = torch.zeros(2*[len(I.flatten())])\n",
    "for k in range(len(dd_i)):\n",
    "    if k + 2*j_max + 1 >= len(dd_i):\n",
    "        # Backward finite differences\n",
    "        dd_i[k, k] = 1\n",
    "        dd_i[k - 2*j_max - 1, k] = -2\n",
    "        dd_i[k - 4*j_max - 2, k] = 1\n",
    "    elif k - 2*j_max - 1 < 0:\n",
    "        # Forward finite differences\n",
    "        dd_i[k, k] = 1\n",
    "        dd_i[k + 2*j_max + 1, k] = -2\n",
    "        dd_i[k + 4*j_max + 2, k] = 1\n",
    "    else:\n",
    "        # Central finite differences\n",
    "        dd_i[k + 2*j_max + 1, k] = 1\n",
    "        dd_i[k, k] = -2\n",
    "        dd_i[k - 2*j_max - 1, k] = 1\n",
    "\n",
    "# The finite-differences lattice approximation to the linear operator for the second derivative w.r.t j\n",
    "dd_j = torch.zeros(2*[len(I.flatten())])\n",
    "for k in range(len(dd_j)):\n",
    "    # Backward finite differences\n",
    "    if k % (2*j_max + 1) == 2*j_max:\n",
    "        dd_j[k, k] = 1\n",
    "        dd_j[k - 1, k] = -2\n",
    "        dd_j[k - 2, k] = 1\n",
    "    # Forward finite differences\n",
    "    elif k % (2*j_max + 1) == 0:\n",
    "        dd_j[k, k] = 1\n",
    "        dd_j[k + 1, k] = -2\n",
    "        dd_j[k + 2, k] = 1\n",
    "    else:\n",
    "        # Central finite differences\n",
    "        dd_j[k + 1, k] = 1\n",
    "        dd_j[k, k] = -2\n",
    "        dd_j[k - 1, k] = 1"
   ]
  },
  {
   "cell_type": "code",
   "execution_count": 118,
   "metadata": {},
   "outputs": [],
   "source": [
    "alpha = 0\n",
    "delta_rho = 0.1\n",
    "delta_z = 0.1\n",
    "\n",
    "E_hat = V.flatten() + (alpha / (delta_rho * I.flatten()))**2.0 - (dd_i / delta_rho**2.0) - (dd_j / delta_z**2.0) - (d_i / (delta_rho**2.0 * I.flatten()))"
   ]
  },
  {
   "cell_type": "code",
   "execution_count": 119,
   "metadata": {},
   "outputs": [],
   "source": [
    "E_hat = E_hat.to_sparse()\n",
    "eigenvalues, eigenvectors = torch.lobpcg(E_hat, k=2, largest=False)"
   ]
  },
  {
   "cell_type": "code",
   "execution_count": 120,
   "metadata": {},
   "outputs": [],
   "source": [
    "def get_e(n):\n",
    "    return eigenvectors.T[n].reshape(I.shape)"
   ]
  },
  {
   "cell_type": "code",
   "execution_count": 122,
   "metadata": {},
   "outputs": [
    {
     "data": {
      "image/png": "[encoded data removed]",
      "text/plain": [
       "<Figure size 600x600 with 1 Axes>"
      ]
     },
     "metadata": {},
     "output_type": "display_data"
    }
   ],
   "source": [
    "plt.figure(figsize=(6,6))\n",
    "plt.pcolormesh(I, J, get_e(0)**2.0, cmap='nipy_spectral')\n",
    "plt.axis('off')\n",
    "plt.show()"
   ]
  },
  {
   "cell_type": "code",
   "execution_count": null,
   "metadata": {},
   "outputs": [],
   "source": []
  }
 ],
 "metadata": {
  "kernelspec": {
   "display_name": "pytorch",
   "language": "python",
   "name": "python3"
  },
  "language_info": {
   "codemirror_mode": {
    "name": "ipython",
    "version": 3
   },
   "file_extension": ".py",
   "mimetype": "text/x-python",
   "name": "python",
   "nbconvert_exporter": "python",
   "pygments_lexer": "ipython3",
   "version": "3.12.3"
  }
 },
 "nbformat": 4,
 "nbformat_minor": 2
}
